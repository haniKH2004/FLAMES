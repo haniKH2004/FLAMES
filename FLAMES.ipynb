{
 "cells": [
  {
   "cell_type": "code",
   "execution_count": 32,
   "id": "7ead21f9",
   "metadata": {},
   "outputs": [
    {
     "name": "stdout",
     "output_type": "stream",
     "text": [
      "['j', 'a']\n",
      "['p', 'r', 'i']\n",
      "2 3\n"
     ]
    }
   ],
   "source": [
    "x='ajay'\n",
    "y='priya'\n",
    "\n",
    "x = list(x)\n",
    "y = list(y)\n",
    "\n",
    "for a in x :\n",
    "    if a in y :\n",
    "        y.remove(a)\n",
    "        x.remove(a)        \n",
    "\n",
    "        \n",
    "print(x)\n",
    "print(y)\n",
    "\n",
    "\n",
    "print (len(x),len(y))\n",
    "c = len(x+y)"
   ]
  },
  {
   "cell_type": "code",
   "execution_count": 16,
   "id": "95ce1088",
   "metadata": {},
   "outputs": [
    {
     "name": "stdout",
     "output_type": "stream",
     "text": [
      "['a', 'j', 'a', 'y']\n",
      "['p', 'r', 'i']\n"
     ]
    }
   ],
   "source": [
    "x = list(x)\n",
    "y = list(y)\n",
    "\n",
    "for a in x :\n",
    "    if a in y :\n",
    "        y.remove(a)\n",
    "        \n",
    "        \n",
    "for a in y :\n",
    "    if a in x :\n",
    "        x.remove(a)        \n",
    "\n",
    "        \n",
    "print(x)\n",
    "print(y)"
   ]
  },
  {
   "cell_type": "code",
   "execution_count": 51,
   "id": "f1763cdf",
   "metadata": {
    "scrolled": true
   },
   "outputs": [
    {
     "name": "stdout",
     "output_type": "stream",
     "text": [
      "['F', 'L', 'A', 'M', 'S'] 5\n",
      "['F', 'L', 'A', 'S'] 4\n",
      "['F', 'L', 'A'] 0\n",
      "['F', 'A'] 2\n",
      "['F'] 0\n"
     ]
    }
   ],
   "source": [
    "z=list('FLAMES')\n",
    "i = 0\n",
    "while len(z)>1:\n",
    "    for b in range(c):\n",
    "        i += 1\n",
    "        if i >= len(z):\n",
    "            i = 0\n",
    "            \n",
    "    z.pop(i-1)\n",
    "    print(z, i)"
   ]
  },
  {
   "cell_type": "code",
   "execution_count": null,
   "id": "7590417d",
   "metadata": {},
   "outputs": [],
   "source": []
  }
 ],
 "metadata": {
  "kernelspec": {
   "display_name": "Python 3 (ipykernel)",
   "language": "python",
   "name": "python3"
  },
  "language_info": {
   "codemirror_mode": {
    "name": "ipython",
    "version": 3
   },
   "file_extension": ".py",
   "mimetype": "text/x-python",
   "name": "python",
   "nbconvert_exporter": "python",
   "pygments_lexer": "ipython3",
   "version": "3.9.12"
  }
 },
 "nbformat": 4,
 "nbformat_minor": 5
}
